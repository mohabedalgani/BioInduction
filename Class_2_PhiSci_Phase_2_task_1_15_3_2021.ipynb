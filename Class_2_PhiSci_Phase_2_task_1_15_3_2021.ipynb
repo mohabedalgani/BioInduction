{
  "nbformat": 4,
  "nbformat_minor": 0,
  "metadata": {
    "colab": {
      "name": "Class_2_PhiSci_Phase_2_task_1_15_3_2021.ipynb",
      "provenance": [],
      "authorship_tag": "ABX9TyMG5w4GAfdqMXSuazkWkSVP",
      "include_colab_link": true
    },
    "kernelspec": {
      "name": "python3",
      "display_name": "Python 3"
    }
  },
  "cells": [
    {
      "cell_type": "markdown",
      "metadata": {
        "id": "view-in-github",
        "colab_type": "text"
      },
      "source": [
        "<a href=\"https://colab.research.google.com/github/mohabedalgani/BioInduction/blob/main/Class_2_PhiSci_Phase_2_task_1_15_3_2021.ipynb\" target=\"_parent\"><img src=\"https://colab.research.google.com/assets/colab-badge.svg\" alt=\"Open In Colab\"/></a>"
      ]
    },
    {
      "cell_type": "code",
      "metadata": {
        "id": "tT07ZbjQHwe6"
      },
      "source": [
        "import pandas as pd\r\n",
        "import numpy as np"
      ],
      "execution_count": 1,
      "outputs": []
    },
    {
      "cell_type": "code",
      "metadata": {
        "id": "ARejy_MXIB_s"
      },
      "source": [
        "ensemble_genes_IDs = pd.read_csv(\"/content/ensemble_genes_IDs_class2.csv\")"
      ],
      "execution_count": 2,
      "outputs": []
    },
    {
      "cell_type": "code",
      "metadata": {
        "id": "3xUuLcZbIIua"
      },
      "source": [
        "filtered_genes_DF = pd.read_csv(\"/content/filtered_genes_DF.csv\")"
      ],
      "execution_count": 3,
      "outputs": []
    },
    {
      "cell_type": "code",
      "metadata": {
        "colab": {
          "base_uri": "https://localhost:8080/",
          "height": 195
        },
        "id": "vAsA3kBgIVBS",
        "outputId": "d3f22c46-24fa-455b-af54-59e7316189a7"
      },
      "source": [
        "# DF2\r\n",
        "ensemble_genes_IDs.head()"
      ],
      "execution_count": 4,
      "outputs": [
        {
          "output_type": "execute_result",
          "data": {
            "text/html": [
              "<div>\n",
              "<style scoped>\n",
              "    .dataframe tbody tr th:only-of-type {\n",
              "        vertical-align: middle;\n",
              "    }\n",
              "\n",
              "    .dataframe tbody tr th {\n",
              "        vertical-align: top;\n",
              "    }\n",
              "\n",
              "    .dataframe thead th {\n",
              "        text-align: right;\n",
              "    }\n",
              "</style>\n",
              "<table border=\"1\" class=\"dataframe\">\n",
              "  <thead>\n",
              "    <tr style=\"text-align: right;\">\n",
              "      <th></th>\n",
              "      <th>Entry</th>\n",
              "      <th>Ensembl</th>\n",
              "      <th>Gene_ID</th>\n",
              "    </tr>\n",
              "  </thead>\n",
              "  <tbody>\n",
              "    <tr>\n",
              "      <th>0</th>\n",
              "      <td>Q7L0R7</td>\n",
              "      <td>ENSG00000146083</td>\n",
              "      <td>22838;</td>\n",
              "    </tr>\n",
              "    <tr>\n",
              "      <th>1</th>\n",
              "      <td>Q9NVJ2</td>\n",
              "      <td>ENSG00000134108</td>\n",
              "      <td>55207;</td>\n",
              "    </tr>\n",
              "    <tr>\n",
              "      <th>2</th>\n",
              "      <td>P10619</td>\n",
              "      <td>ENSG00000064601</td>\n",
              "      <td>5476;</td>\n",
              "    </tr>\n",
              "    <tr>\n",
              "      <th>3</th>\n",
              "      <td>P24001</td>\n",
              "      <td>ENSG00000008517</td>\n",
              "      <td>9235;</td>\n",
              "    </tr>\n",
              "    <tr>\n",
              "      <th>4</th>\n",
              "      <td>Q14140</td>\n",
              "      <td>ENSG00000179833</td>\n",
              "      <td>9792;</td>\n",
              "    </tr>\n",
              "  </tbody>\n",
              "</table>\n",
              "</div>"
            ],
            "text/plain": [
              "    Entry          Ensembl Gene_ID\n",
              "0  Q7L0R7  ENSG00000146083  22838;\n",
              "1  Q9NVJ2  ENSG00000134108  55207;\n",
              "2  P10619  ENSG00000064601   5476;\n",
              "3  P24001  ENSG00000008517   9235;\n",
              "4  Q14140  ENSG00000179833   9792;"
            ]
          },
          "metadata": {
            "tags": []
          },
          "execution_count": 4
        }
      ]
    },
    {
      "cell_type": "code",
      "metadata": {
        "id": "qcwGaK30sd-6"
      },
      "source": [
        "ensemble_genes_IDs.replace(';','', regex=True, inplace=True)"
      ],
      "execution_count": 5,
      "outputs": []
    },
    {
      "cell_type": "code",
      "metadata": {
        "colab": {
          "base_uri": "https://localhost:8080/"
        },
        "id": "vfiXEftAA_8m",
        "outputId": "8ed1b166-bb93-4695-f9c5-23a0cb5163b4"
      },
      "source": [
        "ensemble_genes_IDs.dtypes"
      ],
      "execution_count": 6,
      "outputs": [
        {
          "output_type": "execute_result",
          "data": {
            "text/plain": [
              "Entry      object\n",
              "Ensembl    object\n",
              "Gene_ID    object\n",
              "dtype: object"
            ]
          },
          "metadata": {
            "tags": []
          },
          "execution_count": 6
        }
      ]
    },
    {
      "cell_type": "code",
      "metadata": {
        "colab": {
          "base_uri": "https://localhost:8080/"
        },
        "id": "gDgdTwECJo-v",
        "outputId": "b0b52762-ae2b-4434-9873-d8a85b70c441"
      },
      "source": [
        "len(ensemble_genes_IDs)"
      ],
      "execution_count": 7,
      "outputs": [
        {
          "output_type": "execute_result",
          "data": {
            "text/plain": [
              "2794"
            ]
          },
          "metadata": {
            "tags": []
          },
          "execution_count": 7
        }
      ]
    },
    {
      "cell_type": "code",
      "metadata": {
        "colab": {
          "base_uri": "https://localhost:8080/"
        },
        "id": "i6FQ-QBwGH_E",
        "outputId": "addf4a39-ae8d-4b4f-d7e3-d34f252c98df"
      },
      "source": [
        "ensemble_genes_IDs['Gene_ID'].isna().sum()"
      ],
      "execution_count": 8,
      "outputs": [
        {
          "output_type": "execute_result",
          "data": {
            "text/plain": [
              "96"
            ]
          },
          "metadata": {
            "tags": []
          },
          "execution_count": 8
        }
      ]
    },
    {
      "cell_type": "code",
      "metadata": {
        "id": "QjxsCbXoGk_x"
      },
      "source": [
        "ensemble_genes_IDs = ensemble_genes_IDs[ensemble_genes_IDs['Gene_ID'].notna()]\r\n",
        "ensemble_genes_IDs['Gene_ID'] = ensemble_genes_IDs['Gene_ID'].apply(pd.to_numeric, errors='coerce')\r\n",
        "#ensemble_genes_IDs['Gene_ID'] = ensemble_genes_IDs['Gene_ID'].dropna()"
      ],
      "execution_count": 13,
      "outputs": []
    },
    {
      "cell_type": "code",
      "metadata": {
        "colab": {
          "base_uri": "https://localhost:8080/"
        },
        "id": "Uh4hL2OfGraA",
        "outputId": "b56db149-4977-4693-9fa4-348bbc2c82ac"
      },
      "source": [
        "ensemble_genes_IDs['Gene_ID'].isna().sum()"
      ],
      "execution_count": 14,
      "outputs": [
        {
          "output_type": "execute_result",
          "data": {
            "text/plain": [
              "0"
            ]
          },
          "metadata": {
            "tags": []
          },
          "execution_count": 14
        }
      ]
    },
    {
      "cell_type": "code",
      "metadata": {
        "colab": {
          "base_uri": "https://localhost:8080/"
        },
        "id": "QCuaoI1nJfDM",
        "outputId": "fcb1366d-b373-44fa-b2c7-50e7ef10e40e"
      },
      "source": [
        "len(ensemble_genes_IDs)"
      ],
      "execution_count": 15,
      "outputs": [
        {
          "output_type": "execute_result",
          "data": {
            "text/plain": [
              "2698"
            ]
          },
          "metadata": {
            "tags": []
          },
          "execution_count": 15
        }
      ]
    },
    {
      "cell_type": "code",
      "metadata": {
        "colab": {
          "base_uri": "https://localhost:8080/"
        },
        "id": "ciwwy-o-Bn3-",
        "outputId": "05157c7c-7144-49fa-eb8a-238eb955a54b"
      },
      "source": [
        "ensemble_genes_IDs['Gene_ID'] = ensemble_genes_IDs['Gene_ID'].astype('int64')\r\n",
        "ensemble_genes_IDs.dtypes"
      ],
      "execution_count": 16,
      "outputs": [
        {
          "output_type": "execute_result",
          "data": {
            "text/plain": [
              "Entry      object\n",
              "Ensembl    object\n",
              "Gene_ID     int64\n",
              "dtype: object"
            ]
          },
          "metadata": {
            "tags": []
          },
          "execution_count": 16
        }
      ]
    },
    {
      "cell_type": "code",
      "metadata": {
        "colab": {
          "base_uri": "https://localhost:8080/"
        },
        "id": "cdbQXphcBI1h",
        "outputId": "ad65703d-64c8-4e2d-88c2-62eb419ab569"
      },
      "source": [
        "filtered_genes_DF.dtypes"
      ],
      "execution_count": 17,
      "outputs": [
        {
          "output_type": "execute_result",
          "data": {
            "text/plain": [
              "Unnamed: 0       int64\n",
              "Unnamed: 0.1     int64\n",
              "1               object\n",
              "4                int64\n",
              "5                int64\n",
              "6               object\n",
              "Gene_ID          int64\n",
              "dtype: object"
            ]
          },
          "metadata": {
            "tags": []
          },
          "execution_count": 17
        }
      ]
    },
    {
      "cell_type": "code",
      "metadata": {
        "colab": {
          "base_uri": "https://localhost:8080/"
        },
        "id": "pAwMrB9uF29r",
        "outputId": "e9cefb56-200d-4aa9-c434-a405d1bc9946"
      },
      "source": [
        "filtered_genes_DF['Gene_ID'].isna().sum()"
      ],
      "execution_count": 18,
      "outputs": [
        {
          "output_type": "execute_result",
          "data": {
            "text/plain": [
              "0"
            ]
          },
          "metadata": {
            "tags": []
          },
          "execution_count": 18
        }
      ]
    },
    {
      "cell_type": "code",
      "metadata": {
        "colab": {
          "base_uri": "https://localhost:8080/",
          "height": 195
        },
        "id": "6mJLlS5SIYJT",
        "outputId": "fc5433b3-1e29-41d2-d748-558a8af411cd"
      },
      "source": [
        "# DF1\r\n",
        "filtered_genes_DF.head()"
      ],
      "execution_count": 19,
      "outputs": [
        {
          "output_type": "execute_result",
          "data": {
            "text/html": [
              "<div>\n",
              "<style scoped>\n",
              "    .dataframe tbody tr th:only-of-type {\n",
              "        vertical-align: middle;\n",
              "    }\n",
              "\n",
              "    .dataframe tbody tr th {\n",
              "        vertical-align: top;\n",
              "    }\n",
              "\n",
              "    .dataframe thead th {\n",
              "        text-align: right;\n",
              "    }\n",
              "</style>\n",
              "<table border=\"1\" class=\"dataframe\">\n",
              "  <thead>\n",
              "    <tr style=\"text-align: right;\">\n",
              "      <th></th>\n",
              "      <th>Unnamed: 0</th>\n",
              "      <th>Unnamed: 0.1</th>\n",
              "      <th>1</th>\n",
              "      <th>4</th>\n",
              "      <th>5</th>\n",
              "      <th>6</th>\n",
              "      <th>Gene_ID</th>\n",
              "    </tr>\n",
              "  </thead>\n",
              "  <tbody>\n",
              "    <tr>\n",
              "      <th>0</th>\n",
              "      <td>0</td>\n",
              "      <td>0</td>\n",
              "      <td>NC_000001.11</td>\n",
              "      <td>17369</td>\n",
              "      <td>17436</td>\n",
              "      <td>-</td>\n",
              "      <td>102466751</td>\n",
              "    </tr>\n",
              "    <tr>\n",
              "      <th>1</th>\n",
              "      <td>1</td>\n",
              "      <td>1</td>\n",
              "      <td>NC_000001.11</td>\n",
              "      <td>29926</td>\n",
              "      <td>31295</td>\n",
              "      <td>+</td>\n",
              "      <td>107985730</td>\n",
              "    </tr>\n",
              "    <tr>\n",
              "      <th>2</th>\n",
              "      <td>2</td>\n",
              "      <td>2</td>\n",
              "      <td>NC_000001.11</td>\n",
              "      <td>30366</td>\n",
              "      <td>30503</td>\n",
              "      <td>+</td>\n",
              "      <td>100302278</td>\n",
              "    </tr>\n",
              "    <tr>\n",
              "      <th>3</th>\n",
              "      <td>3</td>\n",
              "      <td>3</td>\n",
              "      <td>NC_000001.11</td>\n",
              "      <td>34611</td>\n",
              "      <td>36081</td>\n",
              "      <td>-</td>\n",
              "      <td>645520</td>\n",
              "    </tr>\n",
              "    <tr>\n",
              "      <th>4</th>\n",
              "      <td>4</td>\n",
              "      <td>4</td>\n",
              "      <td>NC_000001.11</td>\n",
              "      <td>65419</td>\n",
              "      <td>71585</td>\n",
              "      <td>+</td>\n",
              "      <td>79501</td>\n",
              "    </tr>\n",
              "  </tbody>\n",
              "</table>\n",
              "</div>"
            ],
            "text/plain": [
              "   Unnamed: 0  Unnamed: 0.1             1      4      5  6    Gene_ID\n",
              "0           0             0  NC_000001.11  17369  17436  -  102466751\n",
              "1           1             1  NC_000001.11  29926  31295  +  107985730\n",
              "2           2             2  NC_000001.11  30366  30503  +  100302278\n",
              "3           3             3  NC_000001.11  34611  36081  -     645520\n",
              "4           4             4  NC_000001.11  65419  71585  +      79501"
            ]
          },
          "metadata": {
            "tags": []
          },
          "execution_count": 19
        }
      ]
    },
    {
      "cell_type": "code",
      "metadata": {
        "id": "OMEhEjWQIa36"
      },
      "source": [
        "# dropping ALL duplicte values \r\n",
        "filtered_genes_DF.drop_duplicates(subset =\"Gene_ID\", keep = False, inplace = True) "
      ],
      "execution_count": 20,
      "outputs": []
    },
    {
      "cell_type": "code",
      "metadata": {
        "colab": {
          "base_uri": "https://localhost:8080/"
        },
        "id": "1M9abmTZasXs",
        "outputId": "ec859478-2a4c-483f-8ffa-f07a941ced6d"
      },
      "source": [
        "len(np.unique(filtered_genes_DF['Gene_ID']))"
      ],
      "execution_count": 21,
      "outputs": [
        {
          "output_type": "execute_result",
          "data": {
            "text/plain": [
              "35717"
            ]
          },
          "metadata": {
            "tags": []
          },
          "execution_count": 21
        }
      ]
    },
    {
      "cell_type": "code",
      "metadata": {
        "id": "eeks-ZYJTHP0"
      },
      "source": [
        "# dropping ALL duplicte values \r\n",
        "ensemble_genes_IDs.drop_duplicates(subset =\"Gene_ID\", keep = False, inplace = True)"
      ],
      "execution_count": 22,
      "outputs": []
    },
    {
      "cell_type": "code",
      "metadata": {
        "colab": {
          "base_uri": "https://localhost:8080/"
        },
        "id": "1ECiIcVaa6ay",
        "outputId": "f97105a6-34a8-4893-b2c5-088610fc2430"
      },
      "source": [
        "type(filtered_genes_DF['Gene_ID'])"
      ],
      "execution_count": 23,
      "outputs": [
        {
          "output_type": "execute_result",
          "data": {
            "text/plain": [
              "pandas.core.series.Series"
            ]
          },
          "metadata": {
            "tags": []
          },
          "execution_count": 23
        }
      ]
    },
    {
      "cell_type": "code",
      "metadata": {
        "colab": {
          "base_uri": "https://localhost:8080/"
        },
        "id": "u0QxiuDHYswM",
        "outputId": "471a29ef-c129-4498-c78d-99173b4fb200"
      },
      "source": [
        "filtered_genes_DF.loc[102, \"Gene_ID\"]"
      ],
      "execution_count": 24,
      "outputs": [
        {
          "output_type": "execute_result",
          "data": {
            "text/plain": [
              "199990"
            ]
          },
          "metadata": {
            "tags": []
          },
          "execution_count": 24
        }
      ]
    },
    {
      "cell_type": "code",
      "metadata": {
        "id": "e_4G-abIYCqK"
      },
      "source": [
        "filtered_genes_DF.to_csv(\"/content/filtered_genes_DF_updated.csv\")\r\n",
        "ensemble_genes_IDs.to_csv(\"/content/ensemble_genes_IDs_updated_class2.csv\")"
      ],
      "execution_count": 25,
      "outputs": []
    },
    {
      "cell_type": "code",
      "metadata": {
        "id": "Ku4k3T1XYdJq"
      },
      "source": [
        "#DF1\r\n",
        "filtered_genes_DF = pd.read_csv(\"/content/filtered_genes_DF_updated.csv\")\r\n",
        "#DF2\r\n",
        "ensemble_genes_IDs = pd.read_csv(\"/content/ensemble_genes_IDs_updated_class2.csv\")"
      ],
      "execution_count": 26,
      "outputs": []
    },
    {
      "cell_type": "code",
      "metadata": {
        "colab": {
          "base_uri": "https://localhost:8080/"
        },
        "id": "GzuSRCTvHs_G",
        "outputId": "8574bca9-10e3-429c-8492-d9bcd6cb1567"
      },
      "source": [
        "filtered_genes_DF = filtered_genes_DF[['1', '4', '5', '6', 'Gene_ID']]\r\n",
        "len(filtered_genes_DF)"
      ],
      "execution_count": 27,
      "outputs": [
        {
          "output_type": "execute_result",
          "data": {
            "text/plain": [
              "35717"
            ]
          },
          "metadata": {
            "tags": []
          },
          "execution_count": 27
        }
      ]
    },
    {
      "cell_type": "code",
      "metadata": {
        "colab": {
          "base_uri": "https://localhost:8080/"
        },
        "id": "fB9VgEPoI5Iw",
        "outputId": "7c27a2e5-7669-45e9-9032-f65a84e28008"
      },
      "source": [
        "ensemble_genes_IDs.columns"
      ],
      "execution_count": 28,
      "outputs": [
        {
          "output_type": "execute_result",
          "data": {
            "text/plain": [
              "Index(['Unnamed: 0', 'Entry', 'Ensembl', 'Gene_ID'], dtype='object')"
            ]
          },
          "metadata": {
            "tags": []
          },
          "execution_count": 28
        }
      ]
    },
    {
      "cell_type": "code",
      "metadata": {
        "colab": {
          "base_uri": "https://localhost:8080/",
          "height": 195
        },
        "id": "MI8_Yv4tL4Vd",
        "outputId": "1b5fab2f-0128-4e57-b772-ac93207771d2"
      },
      "source": [
        "ensemble_genes_IDs = ensemble_genes_IDs[['Entry', 'Ensembl', 'Gene_ID']]\r\n",
        "ensemble_genes_IDs.head()"
      ],
      "execution_count": 29,
      "outputs": [
        {
          "output_type": "execute_result",
          "data": {
            "text/html": [
              "<div>\n",
              "<style scoped>\n",
              "    .dataframe tbody tr th:only-of-type {\n",
              "        vertical-align: middle;\n",
              "    }\n",
              "\n",
              "    .dataframe tbody tr th {\n",
              "        vertical-align: top;\n",
              "    }\n",
              "\n",
              "    .dataframe thead th {\n",
              "        text-align: right;\n",
              "    }\n",
              "</style>\n",
              "<table border=\"1\" class=\"dataframe\">\n",
              "  <thead>\n",
              "    <tr style=\"text-align: right;\">\n",
              "      <th></th>\n",
              "      <th>Entry</th>\n",
              "      <th>Ensembl</th>\n",
              "      <th>Gene_ID</th>\n",
              "    </tr>\n",
              "  </thead>\n",
              "  <tbody>\n",
              "    <tr>\n",
              "      <th>0</th>\n",
              "      <td>Q7L0R7</td>\n",
              "      <td>ENSG00000146083</td>\n",
              "      <td>22838</td>\n",
              "    </tr>\n",
              "    <tr>\n",
              "      <th>1</th>\n",
              "      <td>Q9NVJ2</td>\n",
              "      <td>ENSG00000134108</td>\n",
              "      <td>55207</td>\n",
              "    </tr>\n",
              "    <tr>\n",
              "      <th>2</th>\n",
              "      <td>P10619</td>\n",
              "      <td>ENSG00000064601</td>\n",
              "      <td>5476</td>\n",
              "    </tr>\n",
              "    <tr>\n",
              "      <th>3</th>\n",
              "      <td>P24001</td>\n",
              "      <td>ENSG00000008517</td>\n",
              "      <td>9235</td>\n",
              "    </tr>\n",
              "    <tr>\n",
              "      <th>4</th>\n",
              "      <td>Q14140</td>\n",
              "      <td>ENSG00000179833</td>\n",
              "      <td>9792</td>\n",
              "    </tr>\n",
              "  </tbody>\n",
              "</table>\n",
              "</div>"
            ],
            "text/plain": [
              "    Entry          Ensembl  Gene_ID\n",
              "0  Q7L0R7  ENSG00000146083    22838\n",
              "1  Q9NVJ2  ENSG00000134108    55207\n",
              "2  P10619  ENSG00000064601     5476\n",
              "3  P24001  ENSG00000008517     9235\n",
              "4  Q14140  ENSG00000179833     9792"
            ]
          },
          "metadata": {
            "tags": []
          },
          "execution_count": 29
        }
      ]
    },
    {
      "cell_type": "code",
      "metadata": {
        "colab": {
          "base_uri": "https://localhost:8080/"
        },
        "id": "tjy3Nu54I1om",
        "outputId": "ef402726-98da-461c-afd6-988ff0c731d4"
      },
      "source": [
        "#ensemble_genes_IDs = ensemble_genes_IDs[['Entry', 'Ensembl','Gene_ID']]\r\n",
        "len(ensemble_genes_IDs)"
      ],
      "execution_count": 30,
      "outputs": [
        {
          "output_type": "execute_result",
          "data": {
            "text/plain": [
              "2694"
            ]
          },
          "metadata": {
            "tags": []
          },
          "execution_count": 30
        }
      ]
    },
    {
      "cell_type": "code",
      "metadata": {
        "id": "ZoXF63U8AhKi"
      },
      "source": [
        "df3 = pd.merge(filtered_genes_DF, ensemble_genes_IDs, on=\"Gene_ID\", how=\"left\")\r\n",
        "m = ~df3[\"Ensembl\"].isna()\r\n",
        "\r\n",
        "df3.loc[m, \"Gene_ID\"] = df3.loc[m, \"Ensembl\"]\r\n"
      ],
      "execution_count": 31,
      "outputs": []
    },
    {
      "cell_type": "code",
      "metadata": {
        "id": "tSRJGNrNHEe4"
      },
      "source": [
        "df3 = df3[filtered_genes_DF.columns]"
      ],
      "execution_count": 32,
      "outputs": []
    },
    {
      "cell_type": "code",
      "metadata": {
        "id": "448MjYCHW3xb"
      },
      "source": [
        "df3 = df3[df3['Gene_ID'].astype('str').str.contains(\"ENSG\")]\r\n",
        "#df3['Gene_ID'].isna().sum()"
      ],
      "execution_count": 33,
      "outputs": []
    },
    {
      "cell_type": "code",
      "metadata": {
        "id": "09CRxzjXHYx-"
      },
      "source": [
        "#DF3\r\n",
        "df3[filtered_genes_DF.columns].to_csv(\"/content/ensemble_genes_IDs_updated_df3_class2.csv\")"
      ],
      "execution_count": 36,
      "outputs": []
    },
    {
      "cell_type": "code",
      "metadata": {
        "id": "J6lwKM7a1jvR",
        "colab": {
          "base_uri": "https://localhost:8080/",
          "height": 195
        },
        "outputId": "ad50a7e8-6ace-4d1e-8338-e5196061e5d0"
      },
      "source": [
        "df3[filtered_genes_DF.columns].head()"
      ],
      "execution_count": 35,
      "outputs": [
        {
          "output_type": "execute_result",
          "data": {
            "text/html": [
              "<div>\n",
              "<style scoped>\n",
              "    .dataframe tbody tr th:only-of-type {\n",
              "        vertical-align: middle;\n",
              "    }\n",
              "\n",
              "    .dataframe tbody tr th {\n",
              "        vertical-align: top;\n",
              "    }\n",
              "\n",
              "    .dataframe thead th {\n",
              "        text-align: right;\n",
              "    }\n",
              "</style>\n",
              "<table border=\"1\" class=\"dataframe\">\n",
              "  <thead>\n",
              "    <tr style=\"text-align: right;\">\n",
              "      <th></th>\n",
              "      <th>1</th>\n",
              "      <th>4</th>\n",
              "      <th>5</th>\n",
              "      <th>6</th>\n",
              "      <th>Gene_ID</th>\n",
              "    </tr>\n",
              "  </thead>\n",
              "  <tbody>\n",
              "    <tr>\n",
              "      <th>32</th>\n",
              "      <td>NC_000001.11</td>\n",
              "      <td>1020102</td>\n",
              "      <td>1056119</td>\n",
              "      <td>+</td>\n",
              "      <td>ENSG00000188157</td>\n",
              "    </tr>\n",
              "    <tr>\n",
              "      <th>45</th>\n",
              "      <td>NC_000001.11</td>\n",
              "      <td>1216908</td>\n",
              "      <td>1232005</td>\n",
              "      <td>-</td>\n",
              "      <td>ENSG00000078808</td>\n",
              "    </tr>\n",
              "    <tr>\n",
              "      <th>61</th>\n",
              "      <td>NC_000001.11</td>\n",
              "      <td>1352689</td>\n",
              "      <td>1363541</td>\n",
              "      <td>-</td>\n",
              "      <td>ENSG00000162576</td>\n",
              "    </tr>\n",
              "    <tr>\n",
              "      <th>63</th>\n",
              "      <td>NC_000001.11</td>\n",
              "      <td>1385711</td>\n",
              "      <td>1399336</td>\n",
              "      <td>-</td>\n",
              "      <td>ENSG00000221978</td>\n",
              "    </tr>\n",
              "    <tr>\n",
              "      <th>68</th>\n",
              "      <td>NC_000001.11</td>\n",
              "      <td>1418420</td>\n",
              "      <td>1422471</td>\n",
              "      <td>-</td>\n",
              "      <td>ENSG00000235098</td>\n",
              "    </tr>\n",
              "  </tbody>\n",
              "</table>\n",
              "</div>"
            ],
            "text/plain": [
              "               1        4        5  6          Gene_ID\n",
              "32  NC_000001.11  1020102  1056119  +  ENSG00000188157\n",
              "45  NC_000001.11  1216908  1232005  -  ENSG00000078808\n",
              "61  NC_000001.11  1352689  1363541  -  ENSG00000162576\n",
              "63  NC_000001.11  1385711  1399336  -  ENSG00000221978\n",
              "68  NC_000001.11  1418420  1422471  -  ENSG00000235098"
            ]
          },
          "metadata": {
            "tags": []
          },
          "execution_count": 35
        }
      ]
    },
    {
      "cell_type": "code",
      "metadata": {
        "id": "_D1gsbNcuuPM"
      },
      "source": [
        ""
      ],
      "execution_count": null,
      "outputs": []
    }
  ]
}