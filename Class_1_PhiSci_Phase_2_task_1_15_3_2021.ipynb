{
  "nbformat": 4,
  "nbformat_minor": 0,
  "metadata": {
    "colab": {
      "name": "Class_1_PhiSci_Phase_2_task_1_15_3_2021.ipynb",
      "provenance": [],
      "authorship_tag": "ABX9TyNO/2jVDLfaOjLVIjzhz66v",
      "include_colab_link": true
    },
    "kernelspec": {
      "name": "python3",
      "display_name": "Python 3"
    }
  },
  "cells": [
    {
      "cell_type": "markdown",
      "metadata": {
        "id": "view-in-github",
        "colab_type": "text"
      },
      "source": [
        "<a href=\"https://colab.research.google.com/github/mohabedalgani/BioInduction/blob/main/Class_1_PhiSci_Phase_2_task_1_15_3_2021.ipynb\" target=\"_parent\"><img src=\"https://colab.research.google.com/assets/colab-badge.svg\" alt=\"Open In Colab\"/></a>"
      ]
    },
    {
      "cell_type": "code",
      "metadata": {
        "id": "tT07ZbjQHwe6"
      },
      "source": [
        "import pandas as pd\r\n",
        "import numpy as np"
      ],
      "execution_count": 1,
      "outputs": []
    },
    {
      "cell_type": "code",
      "metadata": {
        "id": "ARejy_MXIB_s"
      },
      "source": [
        "ensemble_genes_IDs = pd.read_csv(\"/content/ensemble_genes_IDs_class1.csv\")"
      ],
      "execution_count": 2,
      "outputs": []
    },
    {
      "cell_type": "code",
      "metadata": {
        "id": "3xUuLcZbIIua"
      },
      "source": [
        "filtered_genes_DF = pd.read_csv(\"/content/filtered_genes_DF.csv\")"
      ],
      "execution_count": 3,
      "outputs": []
    },
    {
      "cell_type": "code",
      "metadata": {
        "colab": {
          "base_uri": "https://localhost:8080/",
          "height": 195
        },
        "id": "vAsA3kBgIVBS",
        "outputId": "0b7bc5cf-c715-4684-9269-613c796d81f5"
      },
      "source": [
        "# DF2\r\n",
        "ensemble_genes_IDs.head()"
      ],
      "execution_count": 4,
      "outputs": [
        {
          "output_type": "execute_result",
          "data": {
            "text/html": [
              "<div>\n",
              "<style scoped>\n",
              "    .dataframe tbody tr th:only-of-type {\n",
              "        vertical-align: middle;\n",
              "    }\n",
              "\n",
              "    .dataframe tbody tr th {\n",
              "        vertical-align: top;\n",
              "    }\n",
              "\n",
              "    .dataframe thead th {\n",
              "        text-align: right;\n",
              "    }\n",
              "</style>\n",
              "<table border=\"1\" class=\"dataframe\">\n",
              "  <thead>\n",
              "    <tr style=\"text-align: right;\">\n",
              "      <th></th>\n",
              "      <th>Entry</th>\n",
              "      <th>Ensembl</th>\n",
              "      <th>Gene_ID</th>\n",
              "    </tr>\n",
              "  </thead>\n",
              "  <tbody>\n",
              "    <tr>\n",
              "      <th>0</th>\n",
              "      <td>P62750</td>\n",
              "      <td>ENSG00000198242</td>\n",
              "      <td>6147;</td>\n",
              "    </tr>\n",
              "    <tr>\n",
              "      <th>1</th>\n",
              "      <td>Q96ES6</td>\n",
              "      <td>ENSG00000167700</td>\n",
              "      <td>113655;</td>\n",
              "    </tr>\n",
              "    <tr>\n",
              "      <th>2</th>\n",
              "      <td>P35080</td>\n",
              "      <td>ENSG00000070087</td>\n",
              "      <td>5217;</td>\n",
              "    </tr>\n",
              "    <tr>\n",
              "      <th>3</th>\n",
              "      <td>P54725</td>\n",
              "      <td>ENSG00000179262</td>\n",
              "      <td>5886;</td>\n",
              "    </tr>\n",
              "    <tr>\n",
              "      <th>4</th>\n",
              "      <td>P80303</td>\n",
              "      <td>ENSG00000070081</td>\n",
              "      <td>4925;</td>\n",
              "    </tr>\n",
              "  </tbody>\n",
              "</table>\n",
              "</div>"
            ],
            "text/plain": [
              "    Entry          Ensembl  Gene_ID\n",
              "0  P62750  ENSG00000198242    6147;\n",
              "1  Q96ES6  ENSG00000167700  113655;\n",
              "2  P35080  ENSG00000070087    5217;\n",
              "3  P54725  ENSG00000179262    5886;\n",
              "4  P80303  ENSG00000070081    4925;"
            ]
          },
          "metadata": {
            "tags": []
          },
          "execution_count": 4
        }
      ]
    },
    {
      "cell_type": "code",
      "metadata": {
        "id": "qcwGaK30sd-6"
      },
      "source": [
        "ensemble_genes_IDs.replace(';','', regex=True, inplace=True)"
      ],
      "execution_count": 5,
      "outputs": []
    },
    {
      "cell_type": "code",
      "metadata": {
        "colab": {
          "base_uri": "https://localhost:8080/"
        },
        "id": "vfiXEftAA_8m",
        "outputId": "23ab3a9b-82ea-41d2-b326-80c39d535579"
      },
      "source": [
        "ensemble_genes_IDs.dtypes"
      ],
      "execution_count": 6,
      "outputs": [
        {
          "output_type": "execute_result",
          "data": {
            "text/plain": [
              "Entry      object\n",
              "Ensembl    object\n",
              "Gene_ID    object\n",
              "dtype: object"
            ]
          },
          "metadata": {
            "tags": []
          },
          "execution_count": 6
        }
      ]
    },
    {
      "cell_type": "code",
      "metadata": {
        "colab": {
          "base_uri": "https://localhost:8080/"
        },
        "id": "gDgdTwECJo-v",
        "outputId": "af3d4fd6-7890-4147-b805-955502a28827"
      },
      "source": [
        "len(ensemble_genes_IDs)"
      ],
      "execution_count": 7,
      "outputs": [
        {
          "output_type": "execute_result",
          "data": {
            "text/plain": [
              "2630"
            ]
          },
          "metadata": {
            "tags": []
          },
          "execution_count": 7
        }
      ]
    },
    {
      "cell_type": "code",
      "metadata": {
        "colab": {
          "base_uri": "https://localhost:8080/"
        },
        "id": "i6FQ-QBwGH_E",
        "outputId": "4e7f501c-b0c5-4e08-86bb-ad813d1bdccf"
      },
      "source": [
        "ensemble_genes_IDs['Gene_ID'].isna().sum()"
      ],
      "execution_count": 8,
      "outputs": [
        {
          "output_type": "execute_result",
          "data": {
            "text/plain": [
              "9"
            ]
          },
          "metadata": {
            "tags": []
          },
          "execution_count": 8
        }
      ]
    },
    {
      "cell_type": "code",
      "metadata": {
        "id": "QjxsCbXoGk_x"
      },
      "source": [
        "#ensemble_genes_IDs = ensemble_genes_IDs[ensemble_genes_IDs['Gene_ID'].notna()]\r\n",
        "ensemble_genes_IDs['Gene_ID'] = ensemble_genes_IDs['Gene_ID'].apply(pd.to_numeric, errors='coerce')\r\n",
        "ensemble_genes_IDs['Gene_ID'] = ensemble_genes_IDs['Gene_ID'].dropna()"
      ],
      "execution_count": 13,
      "outputs": []
    },
    {
      "cell_type": "code",
      "metadata": {
        "colab": {
          "base_uri": "https://localhost:8080/"
        },
        "id": "Uh4hL2OfGraA",
        "outputId": "51d572dc-56ee-41fd-c072-83a37d48e595"
      },
      "source": [
        "ensemble_genes_IDs['Gene_ID'].isna().sum()"
      ],
      "execution_count": 14,
      "outputs": [
        {
          "output_type": "execute_result",
          "data": {
            "text/plain": [
              "0"
            ]
          },
          "metadata": {
            "tags": []
          },
          "execution_count": 14
        }
      ]
    },
    {
      "cell_type": "code",
      "metadata": {
        "colab": {
          "base_uri": "https://localhost:8080/"
        },
        "id": "QCuaoI1nJfDM",
        "outputId": "13339411-ef9c-487f-c2bc-80317677c0cf"
      },
      "source": [
        "len(ensemble_genes_IDs)"
      ],
      "execution_count": 15,
      "outputs": [
        {
          "output_type": "execute_result",
          "data": {
            "text/plain": [
              "2621"
            ]
          },
          "metadata": {
            "tags": []
          },
          "execution_count": 15
        }
      ]
    },
    {
      "cell_type": "code",
      "metadata": {
        "colab": {
          "base_uri": "https://localhost:8080/"
        },
        "id": "ciwwy-o-Bn3-",
        "outputId": "22268ab2-17e2-465b-d1ac-09d56bab411f"
      },
      "source": [
        "ensemble_genes_IDs['Gene_ID'] = ensemble_genes_IDs['Gene_ID'].astype('int64')\r\n",
        "ensemble_genes_IDs.dtypes"
      ],
      "execution_count": 16,
      "outputs": [
        {
          "output_type": "execute_result",
          "data": {
            "text/plain": [
              "Entry      object\n",
              "Ensembl    object\n",
              "Gene_ID     int64\n",
              "dtype: object"
            ]
          },
          "metadata": {
            "tags": []
          },
          "execution_count": 16
        }
      ]
    },
    {
      "cell_type": "code",
      "metadata": {
        "colab": {
          "base_uri": "https://localhost:8080/"
        },
        "id": "cdbQXphcBI1h",
        "outputId": "c864b9ab-0827-4e66-c37e-5b616eb3f48d"
      },
      "source": [
        "filtered_genes_DF.dtypes"
      ],
      "execution_count": 17,
      "outputs": [
        {
          "output_type": "execute_result",
          "data": {
            "text/plain": [
              "Unnamed: 0       int64\n",
              "Unnamed: 0.1     int64\n",
              "1               object\n",
              "4                int64\n",
              "5                int64\n",
              "6               object\n",
              "Gene_ID          int64\n",
              "dtype: object"
            ]
          },
          "metadata": {
            "tags": []
          },
          "execution_count": 17
        }
      ]
    },
    {
      "cell_type": "code",
      "metadata": {
        "colab": {
          "base_uri": "https://localhost:8080/"
        },
        "id": "pAwMrB9uF29r",
        "outputId": "1be9ae90-39a2-484e-db22-c1fefcbd26b0"
      },
      "source": [
        "filtered_genes_DF['Gene_ID'].isna().sum()"
      ],
      "execution_count": 18,
      "outputs": [
        {
          "output_type": "execute_result",
          "data": {
            "text/plain": [
              "0"
            ]
          },
          "metadata": {
            "tags": []
          },
          "execution_count": 18
        }
      ]
    },
    {
      "cell_type": "code",
      "metadata": {
        "colab": {
          "base_uri": "https://localhost:8080/",
          "height": 195
        },
        "id": "6mJLlS5SIYJT",
        "outputId": "16bbeacf-f6ac-4246-f967-4cda2c16ac0e"
      },
      "source": [
        "# DF1\r\n",
        "filtered_genes_DF.head()"
      ],
      "execution_count": 19,
      "outputs": [
        {
          "output_type": "execute_result",
          "data": {
            "text/html": [
              "<div>\n",
              "<style scoped>\n",
              "    .dataframe tbody tr th:only-of-type {\n",
              "        vertical-align: middle;\n",
              "    }\n",
              "\n",
              "    .dataframe tbody tr th {\n",
              "        vertical-align: top;\n",
              "    }\n",
              "\n",
              "    .dataframe thead th {\n",
              "        text-align: right;\n",
              "    }\n",
              "</style>\n",
              "<table border=\"1\" class=\"dataframe\">\n",
              "  <thead>\n",
              "    <tr style=\"text-align: right;\">\n",
              "      <th></th>\n",
              "      <th>Unnamed: 0</th>\n",
              "      <th>Unnamed: 0.1</th>\n",
              "      <th>1</th>\n",
              "      <th>4</th>\n",
              "      <th>5</th>\n",
              "      <th>6</th>\n",
              "      <th>Gene_ID</th>\n",
              "    </tr>\n",
              "  </thead>\n",
              "  <tbody>\n",
              "    <tr>\n",
              "      <th>0</th>\n",
              "      <td>0</td>\n",
              "      <td>0</td>\n",
              "      <td>NC_000001.11</td>\n",
              "      <td>17369</td>\n",
              "      <td>17436</td>\n",
              "      <td>-</td>\n",
              "      <td>102466751</td>\n",
              "    </tr>\n",
              "    <tr>\n",
              "      <th>1</th>\n",
              "      <td>1</td>\n",
              "      <td>1</td>\n",
              "      <td>NC_000001.11</td>\n",
              "      <td>29926</td>\n",
              "      <td>31295</td>\n",
              "      <td>+</td>\n",
              "      <td>107985730</td>\n",
              "    </tr>\n",
              "    <tr>\n",
              "      <th>2</th>\n",
              "      <td>2</td>\n",
              "      <td>2</td>\n",
              "      <td>NC_000001.11</td>\n",
              "      <td>30366</td>\n",
              "      <td>30503</td>\n",
              "      <td>+</td>\n",
              "      <td>100302278</td>\n",
              "    </tr>\n",
              "    <tr>\n",
              "      <th>3</th>\n",
              "      <td>3</td>\n",
              "      <td>3</td>\n",
              "      <td>NC_000001.11</td>\n",
              "      <td>34611</td>\n",
              "      <td>36081</td>\n",
              "      <td>-</td>\n",
              "      <td>645520</td>\n",
              "    </tr>\n",
              "    <tr>\n",
              "      <th>4</th>\n",
              "      <td>4</td>\n",
              "      <td>4</td>\n",
              "      <td>NC_000001.11</td>\n",
              "      <td>65419</td>\n",
              "      <td>71585</td>\n",
              "      <td>+</td>\n",
              "      <td>79501</td>\n",
              "    </tr>\n",
              "  </tbody>\n",
              "</table>\n",
              "</div>"
            ],
            "text/plain": [
              "   Unnamed: 0  Unnamed: 0.1             1      4      5  6    Gene_ID\n",
              "0           0             0  NC_000001.11  17369  17436  -  102466751\n",
              "1           1             1  NC_000001.11  29926  31295  +  107985730\n",
              "2           2             2  NC_000001.11  30366  30503  +  100302278\n",
              "3           3             3  NC_000001.11  34611  36081  -     645520\n",
              "4           4             4  NC_000001.11  65419  71585  +      79501"
            ]
          },
          "metadata": {
            "tags": []
          },
          "execution_count": 19
        }
      ]
    },
    {
      "cell_type": "code",
      "metadata": {
        "id": "OMEhEjWQIa36"
      },
      "source": [
        "# dropping ALL duplicte values \r\n",
        "filtered_genes_DF.drop_duplicates(subset =\"Gene_ID\", keep = False, inplace = True) "
      ],
      "execution_count": 20,
      "outputs": []
    },
    {
      "cell_type": "code",
      "metadata": {
        "colab": {
          "base_uri": "https://localhost:8080/"
        },
        "id": "1M9abmTZasXs",
        "outputId": "5d3d970e-9cfc-4ecb-a5d8-fbe47217d9b7"
      },
      "source": [
        "len(np.unique(filtered_genes_DF['Gene_ID']))"
      ],
      "execution_count": 21,
      "outputs": [
        {
          "output_type": "execute_result",
          "data": {
            "text/plain": [
              "35717"
            ]
          },
          "metadata": {
            "tags": []
          },
          "execution_count": 21
        }
      ]
    },
    {
      "cell_type": "code",
      "metadata": {
        "id": "eeks-ZYJTHP0"
      },
      "source": [
        "# dropping ALL duplicte values \r\n",
        "ensemble_genes_IDs.drop_duplicates(subset =\"Gene_ID\", keep = False, inplace = True)"
      ],
      "execution_count": 22,
      "outputs": []
    },
    {
      "cell_type": "code",
      "metadata": {
        "colab": {
          "base_uri": "https://localhost:8080/"
        },
        "id": "1ECiIcVaa6ay",
        "outputId": "3f5814bc-1431-4c91-8a96-9f8720a034fc"
      },
      "source": [
        "type(filtered_genes_DF['Gene_ID'])"
      ],
      "execution_count": 23,
      "outputs": [
        {
          "output_type": "execute_result",
          "data": {
            "text/plain": [
              "pandas.core.series.Series"
            ]
          },
          "metadata": {
            "tags": []
          },
          "execution_count": 23
        }
      ]
    },
    {
      "cell_type": "code",
      "metadata": {
        "colab": {
          "base_uri": "https://localhost:8080/"
        },
        "id": "u0QxiuDHYswM",
        "outputId": "166f5730-ce86-4a66-c4ad-6f45352c1272"
      },
      "source": [
        "filtered_genes_DF.loc[102, \"Gene_ID\"]"
      ],
      "execution_count": 25,
      "outputs": [
        {
          "output_type": "execute_result",
          "data": {
            "text/plain": [
              "199990"
            ]
          },
          "metadata": {
            "tags": []
          },
          "execution_count": 25
        }
      ]
    },
    {
      "cell_type": "code",
      "metadata": {
        "id": "e_4G-abIYCqK"
      },
      "source": [
        "filtered_genes_DF.to_csv(\"/content/filtered_genes_DF_updated.csv\")\r\n",
        "ensemble_genes_IDs.to_csv(\"/content/ensemble_genes_IDs_updated_class1.csv\")"
      ],
      "execution_count": 26,
      "outputs": []
    },
    {
      "cell_type": "code",
      "metadata": {
        "id": "Ku4k3T1XYdJq"
      },
      "source": [
        "#DF1\r\n",
        "filtered_genes_DF = pd.read_csv(\"/content/filtered_genes_DF_updated.csv\")\r\n",
        "#DF2\r\n",
        "ensemble_genes_IDs = pd.read_csv(\"/content/ensemble_genes_IDs_updated_class1.csv\")"
      ],
      "execution_count": 27,
      "outputs": []
    },
    {
      "cell_type": "code",
      "metadata": {
        "colab": {
          "base_uri": "https://localhost:8080/"
        },
        "id": "GzuSRCTvHs_G",
        "outputId": "2c2cc934-4499-43ca-cf6a-88979390373d"
      },
      "source": [
        "filtered_genes_DF = filtered_genes_DF[['1', '4', '5', '6', 'Gene_ID']]\r\n",
        "len(filtered_genes_DF)\r\n"
      ],
      "execution_count": 28,
      "outputs": [
        {
          "output_type": "execute_result",
          "data": {
            "text/plain": [
              "35717"
            ]
          },
          "metadata": {
            "tags": []
          },
          "execution_count": 28
        }
      ]
    },
    {
      "cell_type": "code",
      "metadata": {
        "colab": {
          "base_uri": "https://localhost:8080/"
        },
        "id": "fB9VgEPoI5Iw",
        "outputId": "f0c9c3a9-f524-4c7c-c776-1191493f3a6f"
      },
      "source": [
        "ensemble_genes_IDs.columns"
      ],
      "execution_count": 29,
      "outputs": [
        {
          "output_type": "execute_result",
          "data": {
            "text/plain": [
              "Index(['Unnamed: 0', 'Entry', 'Ensembl', 'Gene_ID'], dtype='object')"
            ]
          },
          "metadata": {
            "tags": []
          },
          "execution_count": 29
        }
      ]
    },
    {
      "cell_type": "code",
      "metadata": {
        "colab": {
          "base_uri": "https://localhost:8080/",
          "height": 195
        },
        "id": "MI8_Yv4tL4Vd",
        "outputId": "7c495083-af6f-40b5-e0a0-541b9365a60c"
      },
      "source": [
        "ensemble_genes_IDs = ensemble_genes_IDs[['Entry', 'Ensembl', 'Gene_ID']]\r\n",
        "ensemble_genes_IDs.head()"
      ],
      "execution_count": 30,
      "outputs": [
        {
          "output_type": "execute_result",
          "data": {
            "text/html": [
              "<div>\n",
              "<style scoped>\n",
              "    .dataframe tbody tr th:only-of-type {\n",
              "        vertical-align: middle;\n",
              "    }\n",
              "\n",
              "    .dataframe tbody tr th {\n",
              "        vertical-align: top;\n",
              "    }\n",
              "\n",
              "    .dataframe thead th {\n",
              "        text-align: right;\n",
              "    }\n",
              "</style>\n",
              "<table border=\"1\" class=\"dataframe\">\n",
              "  <thead>\n",
              "    <tr style=\"text-align: right;\">\n",
              "      <th></th>\n",
              "      <th>Entry</th>\n",
              "      <th>Ensembl</th>\n",
              "      <th>Gene_ID</th>\n",
              "    </tr>\n",
              "  </thead>\n",
              "  <tbody>\n",
              "    <tr>\n",
              "      <th>0</th>\n",
              "      <td>P62750</td>\n",
              "      <td>ENSG00000198242</td>\n",
              "      <td>6147</td>\n",
              "    </tr>\n",
              "    <tr>\n",
              "      <th>1</th>\n",
              "      <td>Q96ES6</td>\n",
              "      <td>ENSG00000167700</td>\n",
              "      <td>113655</td>\n",
              "    </tr>\n",
              "    <tr>\n",
              "      <th>2</th>\n",
              "      <td>P35080</td>\n",
              "      <td>ENSG00000070087</td>\n",
              "      <td>5217</td>\n",
              "    </tr>\n",
              "    <tr>\n",
              "      <th>3</th>\n",
              "      <td>P54725</td>\n",
              "      <td>ENSG00000179262</td>\n",
              "      <td>5886</td>\n",
              "    </tr>\n",
              "    <tr>\n",
              "      <th>4</th>\n",
              "      <td>P80303</td>\n",
              "      <td>ENSG00000070081</td>\n",
              "      <td>4925</td>\n",
              "    </tr>\n",
              "  </tbody>\n",
              "</table>\n",
              "</div>"
            ],
            "text/plain": [
              "    Entry          Ensembl  Gene_ID\n",
              "0  P62750  ENSG00000198242     6147\n",
              "1  Q96ES6  ENSG00000167700   113655\n",
              "2  P35080  ENSG00000070087     5217\n",
              "3  P54725  ENSG00000179262     5886\n",
              "4  P80303  ENSG00000070081     4925"
            ]
          },
          "metadata": {
            "tags": []
          },
          "execution_count": 30
        }
      ]
    },
    {
      "cell_type": "code",
      "metadata": {
        "colab": {
          "base_uri": "https://localhost:8080/"
        },
        "id": "tjy3Nu54I1om",
        "outputId": "42087a26-5eed-46a1-b84c-0ad675a21bf0"
      },
      "source": [
        "#ensemble_genes_IDs = ensemble_genes_IDs[['Entry', 'Ensembl','Gene_ID']]\r\n",
        "len(ensemble_genes_IDs)"
      ],
      "execution_count": 31,
      "outputs": [
        {
          "output_type": "execute_result",
          "data": {
            "text/plain": [
              "2607"
            ]
          },
          "metadata": {
            "tags": []
          },
          "execution_count": 31
        }
      ]
    },
    {
      "cell_type": "code",
      "metadata": {
        "id": "ZoXF63U8AhKi"
      },
      "source": [
        "df3 = pd.merge(filtered_genes_DF, ensemble_genes_IDs, on=\"Gene_ID\", how=\"left\")\r\n",
        "m = ~df3[\"Ensembl\"].isna()\r\n",
        "\r\n",
        "df3.loc[m, \"Gene_ID\"] = df3.loc[m, \"Ensembl\"]\r\n"
      ],
      "execution_count": 32,
      "outputs": []
    },
    {
      "cell_type": "code",
      "metadata": {
        "id": "tSRJGNrNHEe4"
      },
      "source": [
        "df3 = df3[filtered_genes_DF.columns]"
      ],
      "execution_count": 33,
      "outputs": []
    },
    {
      "cell_type": "code",
      "metadata": {
        "id": "448MjYCHW3xb"
      },
      "source": [
        "df3 = df3[df3['Gene_ID'].astype('str').str.contains(\"ENSG\")]\r\n",
        "#df3['Gene_ID'].isna().sum()"
      ],
      "execution_count": 34,
      "outputs": []
    },
    {
      "cell_type": "code",
      "metadata": {
        "id": "09CRxzjXHYx-"
      },
      "source": [
        "#DF3\r\n",
        "df3[filtered_genes_DF.columns].to_csv(\"/content/ensemble_genes_IDs_updated_df3_class1.csv\")"
      ],
      "execution_count": 35,
      "outputs": []
    },
    {
      "cell_type": "code",
      "metadata": {
        "id": "J6lwKM7a1jvR",
        "colab": {
          "base_uri": "https://localhost:8080/",
          "height": 195
        },
        "outputId": "5951c22c-28ee-4a6c-940f-79cbb296f08f"
      },
      "source": [
        "df3[filtered_genes_DF.columns].head()"
      ],
      "execution_count": 36,
      "outputs": [
        {
          "output_type": "execute_result",
          "data": {
            "text/html": [
              "<div>\n",
              "<style scoped>\n",
              "    .dataframe tbody tr th:only-of-type {\n",
              "        vertical-align: middle;\n",
              "    }\n",
              "\n",
              "    .dataframe tbody tr th {\n",
              "        vertical-align: top;\n",
              "    }\n",
              "\n",
              "    .dataframe thead th {\n",
              "        text-align: right;\n",
              "    }\n",
              "</style>\n",
              "<table border=\"1\" class=\"dataframe\">\n",
              "  <thead>\n",
              "    <tr style=\"text-align: right;\">\n",
              "      <th></th>\n",
              "      <th>1</th>\n",
              "      <th>4</th>\n",
              "      <th>5</th>\n",
              "      <th>6</th>\n",
              "      <th>Gene_ID</th>\n",
              "    </tr>\n",
              "  </thead>\n",
              "  <tbody>\n",
              "    <tr>\n",
              "      <th>26</th>\n",
              "      <td>NC_000001.11</td>\n",
              "      <td>944203</td>\n",
              "      <td>959256</td>\n",
              "      <td>-</td>\n",
              "      <td>ENSG00000188976</td>\n",
              "    </tr>\n",
              "    <tr>\n",
              "      <th>31</th>\n",
              "      <td>NC_000001.11</td>\n",
              "      <td>1013497</td>\n",
              "      <td>1014540</td>\n",
              "      <td>+</td>\n",
              "      <td>ENSG00000187608</td>\n",
              "    </tr>\n",
              "    <tr>\n",
              "      <th>46</th>\n",
              "      <td>NC_000001.11</td>\n",
              "      <td>1232237</td>\n",
              "      <td>1235041</td>\n",
              "      <td>+</td>\n",
              "      <td>ENSG00000176022</td>\n",
              "    </tr>\n",
              "    <tr>\n",
              "      <th>48</th>\n",
              "      <td>NC_000001.11</td>\n",
              "      <td>1253912</td>\n",
              "      <td>1273854</td>\n",
              "      <td>-</td>\n",
              "      <td>ENSG00000160087</td>\n",
              "    </tr>\n",
              "    <tr>\n",
              "      <th>55</th>\n",
              "      <td>NC_000001.11</td>\n",
              "      <td>1311597</td>\n",
              "      <td>1324660</td>\n",
              "      <td>-</td>\n",
              "      <td>ENSG00000127054</td>\n",
              "    </tr>\n",
              "  </tbody>\n",
              "</table>\n",
              "</div>"
            ],
            "text/plain": [
              "               1        4        5  6          Gene_ID\n",
              "26  NC_000001.11   944203   959256  -  ENSG00000188976\n",
              "31  NC_000001.11  1013497  1014540  +  ENSG00000187608\n",
              "46  NC_000001.11  1232237  1235041  +  ENSG00000176022\n",
              "48  NC_000001.11  1253912  1273854  -  ENSG00000160087\n",
              "55  NC_000001.11  1311597  1324660  -  ENSG00000127054"
            ]
          },
          "metadata": {
            "tags": []
          },
          "execution_count": 36
        }
      ]
    },
    {
      "cell_type": "code",
      "metadata": {
        "id": "_D1gsbNcuuPM"
      },
      "source": [
        ""
      ],
      "execution_count": null,
      "outputs": []
    }
  ]
}