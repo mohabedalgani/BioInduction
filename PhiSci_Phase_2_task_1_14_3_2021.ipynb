{
  "nbformat": 4,
  "nbformat_minor": 0,
  "metadata": {
    "colab": {
      "name": "PhiSci_Phase_2_task_1_14_3_2021.ipynb",
      "provenance": [],
      "authorship_tag": "ABX9TyPnhSy0F/q6TpSzuoCp/wlz",
      "include_colab_link": true
    },
    "kernelspec": {
      "name": "python3",
      "display_name": "Python 3"
    }
  },
  "cells": [
    {
      "cell_type": "markdown",
      "metadata": {
        "id": "view-in-github",
        "colab_type": "text"
      },
      "source": [
        "<a href=\"https://colab.research.google.com/github/mohabedalgani/BioInduction/blob/main/PhiSci_Phase_2_task_1_14_3_2021.ipynb\" target=\"_parent\"><img src=\"https://colab.research.google.com/assets/colab-badge.svg\" alt=\"Open In Colab\"/></a>"
      ]
    },
    {
      "cell_type": "code",
      "metadata": {
        "id": "tT07ZbjQHwe6"
      },
      "source": [
        "import pandas as pd\r\n",
        "import numpy as np"
      ],
      "execution_count": 152,
      "outputs": []
    },
    {
      "cell_type": "code",
      "metadata": {
        "id": "ARejy_MXIB_s"
      },
      "source": [
        "ensemble_genes_IDs = pd.read_csv(\"/content/ensemble_genes_IDs.csv\")"
      ],
      "execution_count": 180,
      "outputs": []
    },
    {
      "cell_type": "code",
      "metadata": {
        "id": "3xUuLcZbIIua"
      },
      "source": [
        "filtered_genes_DF = pd.read_csv(\"/content/filtered_genes_DF.csv\")"
      ],
      "execution_count": 181,
      "outputs": []
    },
    {
      "cell_type": "code",
      "metadata": {
        "colab": {
          "base_uri": "https://localhost:8080/",
          "height": 195
        },
        "id": "vAsA3kBgIVBS",
        "outputId": "a9ed56ea-6964-473b-9226-5bd233ca52b1"
      },
      "source": [
        "# DF2\r\n",
        "ensemble_genes_IDs.head()"
      ],
      "execution_count": 182,
      "outputs": [
        {
          "output_type": "execute_result",
          "data": {
            "text/html": [
              "<div>\n",
              "<style scoped>\n",
              "    .dataframe tbody tr th:only-of-type {\n",
              "        vertical-align: middle;\n",
              "    }\n",
              "\n",
              "    .dataframe tbody tr th {\n",
              "        vertical-align: top;\n",
              "    }\n",
              "\n",
              "    .dataframe thead th {\n",
              "        text-align: right;\n",
              "    }\n",
              "</style>\n",
              "<table border=\"1\" class=\"dataframe\">\n",
              "  <thead>\n",
              "    <tr style=\"text-align: right;\">\n",
              "      <th></th>\n",
              "      <th>Unnamed: 0</th>\n",
              "      <th>Entry</th>\n",
              "      <th>Ensembl</th>\n",
              "      <th>Gene_ID</th>\n",
              "    </tr>\n",
              "  </thead>\n",
              "  <tbody>\n",
              "    <tr>\n",
              "      <th>0</th>\n",
              "      <td>0</td>\n",
              "      <td>Q7L0R7</td>\n",
              "      <td>ENSG00000146083</td>\n",
              "      <td>22838</td>\n",
              "    </tr>\n",
              "    <tr>\n",
              "      <th>1</th>\n",
              "      <td>1</td>\n",
              "      <td>P62750</td>\n",
              "      <td>ENSG00000198242</td>\n",
              "      <td>6147</td>\n",
              "    </tr>\n",
              "    <tr>\n",
              "      <th>2</th>\n",
              "      <td>2</td>\n",
              "      <td>Q9NVJ2</td>\n",
              "      <td>ENSG00000134108</td>\n",
              "      <td>55207</td>\n",
              "    </tr>\n",
              "    <tr>\n",
              "      <th>3</th>\n",
              "      <td>3</td>\n",
              "      <td>Q96ES6</td>\n",
              "      <td>ENSG00000167700</td>\n",
              "      <td>113655</td>\n",
              "    </tr>\n",
              "    <tr>\n",
              "      <th>4</th>\n",
              "      <td>4</td>\n",
              "      <td>P35080</td>\n",
              "      <td>ENSG00000070087</td>\n",
              "      <td>5217</td>\n",
              "    </tr>\n",
              "  </tbody>\n",
              "</table>\n",
              "</div>"
            ],
            "text/plain": [
              "   Unnamed: 0   Entry          Ensembl Gene_ID\n",
              "0           0  Q7L0R7  ENSG00000146083   22838\n",
              "1           1  P62750  ENSG00000198242    6147\n",
              "2           2  Q9NVJ2  ENSG00000134108   55207\n",
              "3           3  Q96ES6  ENSG00000167700  113655\n",
              "4           4  P35080  ENSG00000070087    5217"
            ]
          },
          "metadata": {
            "tags": []
          },
          "execution_count": 182
        }
      ]
    },
    {
      "cell_type": "code",
      "metadata": {
        "colab": {
          "base_uri": "https://localhost:8080/"
        },
        "id": "vfiXEftAA_8m",
        "outputId": "a43f46e0-08f8-464c-d678-8898dee265d3"
      },
      "source": [
        "ensemble_genes_IDs.dtypes"
      ],
      "execution_count": 183,
      "outputs": [
        {
          "output_type": "execute_result",
          "data": {
            "text/plain": [
              "Unnamed: 0     int64\n",
              "Entry         object\n",
              "Ensembl       object\n",
              "Gene_ID       object\n",
              "dtype: object"
            ]
          },
          "metadata": {
            "tags": []
          },
          "execution_count": 183
        }
      ]
    },
    {
      "cell_type": "code",
      "metadata": {
        "colab": {
          "base_uri": "https://localhost:8080/"
        },
        "id": "gDgdTwECJo-v",
        "outputId": "b2e09c7d-55bd-4829-b975-41624cb969b8"
      },
      "source": [
        "len(ensemble_genes_IDs)"
      ],
      "execution_count": 184,
      "outputs": [
        {
          "output_type": "execute_result",
          "data": {
            "text/plain": [
              "5423"
            ]
          },
          "metadata": {
            "tags": []
          },
          "execution_count": 184
        }
      ]
    },
    {
      "cell_type": "code",
      "metadata": {
        "colab": {
          "base_uri": "https://localhost:8080/"
        },
        "id": "i6FQ-QBwGH_E",
        "outputId": "05a983b3-3925-476e-fb1b-563042727acb"
      },
      "source": [
        "ensemble_genes_IDs['Gene_ID'].isna().sum()"
      ],
      "execution_count": 185,
      "outputs": [
        {
          "output_type": "execute_result",
          "data": {
            "text/plain": [
              "105"
            ]
          },
          "metadata": {
            "tags": []
          },
          "execution_count": 185
        }
      ]
    },
    {
      "cell_type": "code",
      "metadata": {
        "id": "QjxsCbXoGk_x"
      },
      "source": [
        "ensemble_genes_IDs = ensemble_genes_IDs[ensemble_genes_IDs['Gene_ID'].notna()]\r\n",
        "#ensemble_genes_IDs['Gene_ID'] = ensemble_genes_IDs['Gene_ID'].apply(pd.to_numeric, errors='coerce')\r\n",
        "#ensemble_genes_IDs['Gene_ID'] = ensemble_genes_IDs['Gene_ID'].dropna()"
      ],
      "execution_count": 190,
      "outputs": []
    },
    {
      "cell_type": "code",
      "metadata": {
        "colab": {
          "base_uri": "https://localhost:8080/"
        },
        "id": "Uh4hL2OfGraA",
        "outputId": "6cc420b9-392c-4eda-c6ce-b327dc39490d"
      },
      "source": [
        "ensemble_genes_IDs['Gene_ID'].isna().sum()"
      ],
      "execution_count": 191,
      "outputs": [
        {
          "output_type": "execute_result",
          "data": {
            "text/plain": [
              "0"
            ]
          },
          "metadata": {
            "tags": []
          },
          "execution_count": 191
        }
      ]
    },
    {
      "cell_type": "code",
      "metadata": {
        "colab": {
          "base_uri": "https://localhost:8080/"
        },
        "id": "QCuaoI1nJfDM",
        "outputId": "088101b3-f728-4510-f0e6-01331d7008cc"
      },
      "source": [
        "len(ensemble_genes_IDs)"
      ],
      "execution_count": 192,
      "outputs": [
        {
          "output_type": "execute_result",
          "data": {
            "text/plain": [
              "5318"
            ]
          },
          "metadata": {
            "tags": []
          },
          "execution_count": 192
        }
      ]
    },
    {
      "cell_type": "code",
      "metadata": {
        "colab": {
          "base_uri": "https://localhost:8080/"
        },
        "id": "ciwwy-o-Bn3-",
        "outputId": "cb1d532d-7564-4477-b659-821fd331be24"
      },
      "source": [
        "ensemble_genes_IDs['Gene_ID'] = ensemble_genes_IDs['Gene_ID'].astype('int64')\r\n",
        "ensemble_genes_IDs.dtypes"
      ],
      "execution_count": 193,
      "outputs": [
        {
          "output_type": "execute_result",
          "data": {
            "text/plain": [
              "Unnamed: 0     int64\n",
              "Entry         object\n",
              "Ensembl       object\n",
              "Gene_ID        int64\n",
              "dtype: object"
            ]
          },
          "metadata": {
            "tags": []
          },
          "execution_count": 193
        }
      ]
    },
    {
      "cell_type": "code",
      "metadata": {
        "colab": {
          "base_uri": "https://localhost:8080/"
        },
        "id": "cdbQXphcBI1h",
        "outputId": "b61296b8-2ff3-4d16-907c-bb9a7f5ebb1a"
      },
      "source": [
        "filtered_genes_DF.dtypes"
      ],
      "execution_count": 194,
      "outputs": [
        {
          "output_type": "execute_result",
          "data": {
            "text/plain": [
              "Unnamed: 0       int64\n",
              "Unnamed: 0.1     int64\n",
              "1               object\n",
              "4                int64\n",
              "5                int64\n",
              "6               object\n",
              "Gene_ID          int64\n",
              "dtype: object"
            ]
          },
          "metadata": {
            "tags": []
          },
          "execution_count": 194
        }
      ]
    },
    {
      "cell_type": "code",
      "metadata": {
        "colab": {
          "base_uri": "https://localhost:8080/"
        },
        "id": "pAwMrB9uF29r",
        "outputId": "9a0264e5-4a8d-437d-db8b-3f902344b80a"
      },
      "source": [
        "filtered_genes_DF['Gene_ID'].isna().sum()"
      ],
      "execution_count": 195,
      "outputs": [
        {
          "output_type": "execute_result",
          "data": {
            "text/plain": [
              "0"
            ]
          },
          "metadata": {
            "tags": []
          },
          "execution_count": 195
        }
      ]
    },
    {
      "cell_type": "code",
      "metadata": {
        "colab": {
          "base_uri": "https://localhost:8080/",
          "height": 195
        },
        "id": "6mJLlS5SIYJT",
        "outputId": "13cb228a-2ead-4c4b-97e3-b2a34f4085ce"
      },
      "source": [
        "# DF1\r\n",
        "filtered_genes_DF.head()"
      ],
      "execution_count": 196,
      "outputs": [
        {
          "output_type": "execute_result",
          "data": {
            "text/html": [
              "<div>\n",
              "<style scoped>\n",
              "    .dataframe tbody tr th:only-of-type {\n",
              "        vertical-align: middle;\n",
              "    }\n",
              "\n",
              "    .dataframe tbody tr th {\n",
              "        vertical-align: top;\n",
              "    }\n",
              "\n",
              "    .dataframe thead th {\n",
              "        text-align: right;\n",
              "    }\n",
              "</style>\n",
              "<table border=\"1\" class=\"dataframe\">\n",
              "  <thead>\n",
              "    <tr style=\"text-align: right;\">\n",
              "      <th></th>\n",
              "      <th>Unnamed: 0</th>\n",
              "      <th>Unnamed: 0.1</th>\n",
              "      <th>1</th>\n",
              "      <th>4</th>\n",
              "      <th>5</th>\n",
              "      <th>6</th>\n",
              "      <th>Gene_ID</th>\n",
              "    </tr>\n",
              "  </thead>\n",
              "  <tbody>\n",
              "    <tr>\n",
              "      <th>0</th>\n",
              "      <td>0</td>\n",
              "      <td>0</td>\n",
              "      <td>NC_000001.11</td>\n",
              "      <td>17369</td>\n",
              "      <td>17436</td>\n",
              "      <td>-</td>\n",
              "      <td>102466751</td>\n",
              "    </tr>\n",
              "    <tr>\n",
              "      <th>1</th>\n",
              "      <td>1</td>\n",
              "      <td>1</td>\n",
              "      <td>NC_000001.11</td>\n",
              "      <td>29926</td>\n",
              "      <td>31295</td>\n",
              "      <td>+</td>\n",
              "      <td>107985730</td>\n",
              "    </tr>\n",
              "    <tr>\n",
              "      <th>2</th>\n",
              "      <td>2</td>\n",
              "      <td>2</td>\n",
              "      <td>NC_000001.11</td>\n",
              "      <td>30366</td>\n",
              "      <td>30503</td>\n",
              "      <td>+</td>\n",
              "      <td>100302278</td>\n",
              "    </tr>\n",
              "    <tr>\n",
              "      <th>3</th>\n",
              "      <td>3</td>\n",
              "      <td>3</td>\n",
              "      <td>NC_000001.11</td>\n",
              "      <td>34611</td>\n",
              "      <td>36081</td>\n",
              "      <td>-</td>\n",
              "      <td>645520</td>\n",
              "    </tr>\n",
              "    <tr>\n",
              "      <th>4</th>\n",
              "      <td>4</td>\n",
              "      <td>4</td>\n",
              "      <td>NC_000001.11</td>\n",
              "      <td>65419</td>\n",
              "      <td>71585</td>\n",
              "      <td>+</td>\n",
              "      <td>79501</td>\n",
              "    </tr>\n",
              "  </tbody>\n",
              "</table>\n",
              "</div>"
            ],
            "text/plain": [
              "   Unnamed: 0  Unnamed: 0.1             1      4      5  6    Gene_ID\n",
              "0           0             0  NC_000001.11  17369  17436  -  102466751\n",
              "1           1             1  NC_000001.11  29926  31295  +  107985730\n",
              "2           2             2  NC_000001.11  30366  30503  +  100302278\n",
              "3           3             3  NC_000001.11  34611  36081  -     645520\n",
              "4           4             4  NC_000001.11  65419  71585  +      79501"
            ]
          },
          "metadata": {
            "tags": []
          },
          "execution_count": 196
        }
      ]
    },
    {
      "cell_type": "code",
      "metadata": {
        "id": "OMEhEjWQIa36"
      },
      "source": [
        "# dropping ALL duplicte values \r\n",
        "filtered_genes_DF.drop_duplicates(subset =\"Gene_ID\", keep = False, inplace = True) "
      ],
      "execution_count": 197,
      "outputs": []
    },
    {
      "cell_type": "code",
      "metadata": {
        "colab": {
          "base_uri": "https://localhost:8080/"
        },
        "id": "1M9abmTZasXs",
        "outputId": "2ded7dcc-3faf-48fa-a197-19cc7b84c2b1"
      },
      "source": [
        "len(np.unique(filtered_genes_DF['Gene_ID']))"
      ],
      "execution_count": 198,
      "outputs": [
        {
          "output_type": "execute_result",
          "data": {
            "text/plain": [
              "35717"
            ]
          },
          "metadata": {
            "tags": []
          },
          "execution_count": 198
        }
      ]
    },
    {
      "cell_type": "code",
      "metadata": {
        "id": "eeks-ZYJTHP0"
      },
      "source": [
        "# dropping ALL duplicte values \r\n",
        "ensemble_genes_IDs.drop_duplicates(subset =\"Gene_ID\", keep = False, inplace = True)"
      ],
      "execution_count": 199,
      "outputs": []
    },
    {
      "cell_type": "code",
      "metadata": {
        "colab": {
          "base_uri": "https://localhost:8080/"
        },
        "id": "1ECiIcVaa6ay",
        "outputId": "9149d809-1937-4e33-c2d3-6e70a0348c62"
      },
      "source": [
        "type(filtered_genes_DF['Gene_ID'])"
      ],
      "execution_count": 200,
      "outputs": [
        {
          "output_type": "execute_result",
          "data": {
            "text/plain": [
              "pandas.core.series.Series"
            ]
          },
          "metadata": {
            "tags": []
          },
          "execution_count": 200
        }
      ]
    },
    {
      "cell_type": "code",
      "metadata": {
        "colab": {
          "base_uri": "https://localhost:8080/"
        },
        "id": "u0QxiuDHYswM",
        "outputId": "79ffcff4-7f0e-48f9-a3f3-824ba1a7c2dc"
      },
      "source": [
        "filtered_genes_DF.loc[102, \"Gene_ID\"]"
      ],
      "execution_count": 202,
      "outputs": [
        {
          "output_type": "execute_result",
          "data": {
            "text/plain": [
              "199990"
            ]
          },
          "metadata": {
            "tags": []
          },
          "execution_count": 202
        }
      ]
    },
    {
      "cell_type": "code",
      "metadata": {
        "id": "e_4G-abIYCqK"
      },
      "source": [
        "filtered_genes_DF.to_csv(\"/content/filtered_genes_DF_updated.csv\")\r\n",
        "ensemble_genes_IDs.to_csv(\"/content/ensemble_genes_IDs_updated.csv\")"
      ],
      "execution_count": 204,
      "outputs": []
    },
    {
      "cell_type": "code",
      "metadata": {
        "id": "Ku4k3T1XYdJq"
      },
      "source": [
        "#DF1\r\n",
        "filtered_genes_DF = pd.read_csv(\"/content/filtered_genes_DF_updated.csv\")\r\n",
        "#DF2\r\n",
        "ensemble_genes_IDs = pd.read_csv(\"/content/ensemble_genes_IDs_updated.csv\")"
      ],
      "execution_count": 251,
      "outputs": []
    },
    {
      "cell_type": "code",
      "metadata": {
        "colab": {
          "base_uri": "https://localhost:8080/"
        },
        "id": "GzuSRCTvHs_G",
        "outputId": "80c22bde-7c17-49c1-ebc1-ef8bb2028361"
      },
      "source": [
        "filtered_genes_DF = filtered_genes_DF[['1', '4', '5', '6', 'Gene_ID']]\r\n",
        "len(filtered_genes_DF)\r\n"
      ],
      "execution_count": 252,
      "outputs": [
        {
          "output_type": "execute_result",
          "data": {
            "text/plain": [
              "35717"
            ]
          },
          "metadata": {
            "tags": []
          },
          "execution_count": 252
        }
      ]
    },
    {
      "cell_type": "code",
      "metadata": {
        "colab": {
          "base_uri": "https://localhost:8080/"
        },
        "id": "fB9VgEPoI5Iw",
        "outputId": "1110fdb2-7c9e-4084-e374-46903f1c6320"
      },
      "source": [
        "ensemble_genes_IDs.columns"
      ],
      "execution_count": 253,
      "outputs": [
        {
          "output_type": "execute_result",
          "data": {
            "text/plain": [
              "Index(['Unnamed: 0', 'Unnamed: 0.1', 'Entry', 'Ensembl', 'Gene_ID'], dtype='object')"
            ]
          },
          "metadata": {
            "tags": []
          },
          "execution_count": 253
        }
      ]
    },
    {
      "cell_type": "code",
      "metadata": {
        "colab": {
          "base_uri": "https://localhost:8080/",
          "height": 195
        },
        "id": "MI8_Yv4tL4Vd",
        "outputId": "e5debc0b-da19-4846-8965-b3428559e5cd"
      },
      "source": [
        "ensemble_genes_IDs = ensemble_genes_IDs[['Entry', 'Ensembl', 'Gene_ID']]\r\n",
        "ensemble_genes_IDs.head()"
      ],
      "execution_count": 254,
      "outputs": [
        {
          "output_type": "execute_result",
          "data": {
            "text/html": [
              "<div>\n",
              "<style scoped>\n",
              "    .dataframe tbody tr th:only-of-type {\n",
              "        vertical-align: middle;\n",
              "    }\n",
              "\n",
              "    .dataframe tbody tr th {\n",
              "        vertical-align: top;\n",
              "    }\n",
              "\n",
              "    .dataframe thead th {\n",
              "        text-align: right;\n",
              "    }\n",
              "</style>\n",
              "<table border=\"1\" class=\"dataframe\">\n",
              "  <thead>\n",
              "    <tr style=\"text-align: right;\">\n",
              "      <th></th>\n",
              "      <th>Entry</th>\n",
              "      <th>Ensembl</th>\n",
              "      <th>Gene_ID</th>\n",
              "    </tr>\n",
              "  </thead>\n",
              "  <tbody>\n",
              "    <tr>\n",
              "      <th>0</th>\n",
              "      <td>Q7L0R7</td>\n",
              "      <td>ENSG00000146083</td>\n",
              "      <td>22838</td>\n",
              "    </tr>\n",
              "    <tr>\n",
              "      <th>1</th>\n",
              "      <td>P62750</td>\n",
              "      <td>ENSG00000198242</td>\n",
              "      <td>6147</td>\n",
              "    </tr>\n",
              "    <tr>\n",
              "      <th>2</th>\n",
              "      <td>Q9NVJ2</td>\n",
              "      <td>ENSG00000134108</td>\n",
              "      <td>55207</td>\n",
              "    </tr>\n",
              "    <tr>\n",
              "      <th>3</th>\n",
              "      <td>Q96ES6</td>\n",
              "      <td>ENSG00000167700</td>\n",
              "      <td>113655</td>\n",
              "    </tr>\n",
              "    <tr>\n",
              "      <th>4</th>\n",
              "      <td>P35080</td>\n",
              "      <td>ENSG00000070087</td>\n",
              "      <td>5217</td>\n",
              "    </tr>\n",
              "  </tbody>\n",
              "</table>\n",
              "</div>"
            ],
            "text/plain": [
              "    Entry          Ensembl  Gene_ID\n",
              "0  Q7L0R7  ENSG00000146083    22838\n",
              "1  P62750  ENSG00000198242     6147\n",
              "2  Q9NVJ2  ENSG00000134108    55207\n",
              "3  Q96ES6  ENSG00000167700   113655\n",
              "4  P35080  ENSG00000070087     5217"
            ]
          },
          "metadata": {
            "tags": []
          },
          "execution_count": 254
        }
      ]
    },
    {
      "cell_type": "code",
      "metadata": {
        "colab": {
          "base_uri": "https://localhost:8080/"
        },
        "id": "tjy3Nu54I1om",
        "outputId": "69bf700b-a17d-4bc2-de16-6bc099faab3d"
      },
      "source": [
        "#ensemble_genes_IDs = ensemble_genes_IDs[['Entry', 'Ensembl','Gene_ID']]\r\n",
        "len(ensemble_genes_IDs)"
      ],
      "execution_count": 255,
      "outputs": [
        {
          "output_type": "execute_result",
          "data": {
            "text/plain": [
              "5299"
            ]
          },
          "metadata": {
            "tags": []
          },
          "execution_count": 255
        }
      ]
    },
    {
      "cell_type": "code",
      "metadata": {
        "id": "ZoXF63U8AhKi"
      },
      "source": [
        "df3 = pd.merge(filtered_genes_DF, ensemble_genes_IDs, on=\"Gene_ID\", how=\"left\")\r\n",
        "m = ~df3[\"Ensembl\"].isna()\r\n",
        "\r\n",
        "df3.loc[m, \"Gene_ID\"] = df3.loc[m, \"Ensembl\"]\r\n"
      ],
      "execution_count": 256,
      "outputs": []
    },
    {
      "cell_type": "code",
      "metadata": {
        "id": "tSRJGNrNHEe4"
      },
      "source": [
        "df3 = df3[filtered_genes_DF.columns]"
      ],
      "execution_count": 257,
      "outputs": []
    },
    {
      "cell_type": "code",
      "metadata": {
        "id": "448MjYCHW3xb"
      },
      "source": [
        "df3 = df3[df3['Gene_ID'].astype('str').str.contains(\"ENSG\")]\r\n",
        "#df3['Gene_ID'].isna().sum()"
      ],
      "execution_count": 258,
      "outputs": []
    },
    {
      "cell_type": "code",
      "metadata": {
        "id": "09CRxzjXHYx-"
      },
      "source": [
        "#DF3\r\n",
        "df3[filtered_genes_DF.columns].to_csv(\"/content/ensemble_genes_IDs_updated_df3.csv\")"
      ],
      "execution_count": 259,
      "outputs": []
    }
  ]
}